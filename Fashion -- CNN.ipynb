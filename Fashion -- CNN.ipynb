{
 "cells": [
  {
   "cell_type": "code",
   "execution_count": 38,
   "metadata": {},
   "outputs": [],
   "source": [
    "from keras.models import Sequential\n",
    "from keras.layers import Conv2D\n",
    "from keras.layers import MaxPooling2D\n",
    "from keras.layers import Flatten\n",
    "from keras.layers import Dense"
   ]
  },
  {
   "cell_type": "code",
   "execution_count": 39,
   "metadata": {},
   "outputs": [],
   "source": [
    "# import libraries \n",
    "import pandas as pd # Import Pandas for data manipulation using dataframes\n",
    "import numpy as np # Import Numpy for data statistical analysis \n",
    "import matplotlib.pyplot as plt # Import matplotlib for data visualisation\n",
    "import seaborn as sns\n",
    "import random"
   ]
  },
  {
   "cell_type": "code",
   "execution_count": 40,
   "metadata": {},
   "outputs": [],
   "source": [
    "# dataframes creation for both training and testing datasets \n",
    "train_df = pd.read_csv('fashion-mnist_train.csv',sep=',')\n",
    "test_df = pd.read_csv('fashion-mnist_test.csv', sep = ',')"
   ]
  },
  {
   "cell_type": "code",
   "execution_count": 41,
   "metadata": {},
   "outputs": [],
   "source": [
    "# Create training and testing arrays\n",
    "training = np.array(train_df, dtype = 'float32')\n",
    "testing = np.array(test_df, dtype='float32')"
   ]
  },
  {
   "cell_type": "code",
   "execution_count": 42,
   "metadata": {},
   "outputs": [
    {
     "data": {
      "text/plain": [
       "(60000, 785)"
      ]
     },
     "execution_count": 42,
     "metadata": {},
     "output_type": "execute_result"
    }
   ],
   "source": [
    "training.shape"
   ]
  },
  {
   "cell_type": "code",
   "execution_count": 43,
   "metadata": {},
   "outputs": [
    {
     "data": {
      "text/plain": [
       "3.0"
      ]
     },
     "execution_count": 43,
     "metadata": {},
     "output_type": "execute_result"
    },
    {
     "data": {
      "image/png": "[encoded data removed]",
      "text/plain": [
       "<Figure size 432x288 with 1 Axes>"
      ]
     },
     "metadata": {
      "needs_background": "light"
     },
     "output_type": "display_data"
    }
   ],
   "source": [
    "# Let's view some images!\n",
    "i = random.randint(1,60000) # select any random index from 1 to 60,000\n",
    "plt.imshow( training[i,1:].reshape((28,28)) ) # reshape and plot the image\n",
    "\n",
    "plt.imshow( training[i,1:].reshape((28,28)) , cmap = 'gray') # reshape and plot the image\n",
    "\n",
    "\n",
    "# Remember the 10 classes decoding is as follows:\n",
    "# 0 => T-shirt/top\n",
    "# 1 => Trouser\n",
    "# 2 => Pullover\n",
    "# 3 => Dress\n",
    "# 4 => Coat\n",
    "# 5 => Sandal\n",
    "# 6 => Shirt\n",
    "# 7 => Sneaker\n",
    "# 8 => Bag\n",
    "# 9 => Ankle boot\n",
    "\n",
    "label = training[i,0]\n",
    "label"
   ]
  },
  {
   "cell_type": "code",
   "execution_count": 44,
   "metadata": {},
   "outputs": [],
   "source": [
    "# Prepare the training and testing dataset \n",
    "X_train = training[:,1:]/255\n",
    "y_train = training[:,0]\n",
    "\n",
    "X_test = testing[:,1:]/255\n",
    "y_test = testing[:,0]"
   ]
  },
  {
   "cell_type": "code",
   "execution_count": 45,
   "metadata": {},
   "outputs": [],
   "source": [
    "from sklearn.model_selection import train_test_split\n",
    "\n",
    "X_train, X_validate, y_train, y_validate = train_test_split(X_train, y_train, test_size = 0.2, random_state = 12345)"
   ]
  },
  {
   "cell_type": "code",
   "execution_count": 46,
   "metadata": {},
   "outputs": [
    {
     "data": {
      "text/plain": [
       "(48000, 784)"
      ]
     },
     "execution_count": 46,
     "metadata": {},
     "output_type": "execute_result"
    }
   ],
   "source": [
    "X_train.shape"
   ]
  },
  {
   "cell_type": "code",
   "execution_count": 47,
   "metadata": {},
   "outputs": [
    {
     "data": {
      "text/plain": [
       "(48000,)"
      ]
     },
     "execution_count": 47,
     "metadata": {},
     "output_type": "execute_result"
    }
   ],
   "source": [
    "y_train.shape"
   ]
  },
  {
   "cell_type": "code",
   "execution_count": 48,
   "metadata": {},
   "outputs": [],
   "source": [
    "# * unpack the tuple\n",
    "X_train = X_train.reshape(X_train.shape[0], *(28, 28, 1))\n",
    "X_test = X_test.reshape(X_test.shape[0], *(28, 28, 1))\n",
    "X_validate = X_validate.reshape(X_validate.shape[0], *(28, 28, 1))"
   ]
  },
  {
   "cell_type": "code",
   "execution_count": 58,
   "metadata": {},
   "outputs": [],
   "source": [
    "# Initialising the CNN\n",
    "classifier = Sequential()"
   ]
  },
  {
   "cell_type": "code",
   "execution_count": 59,
   "metadata": {},
   "outputs": [],
   "source": [
    "# Step 1 - Convolution\n",
    "classifier.add(Conv2D(32, (3, 3), input_shape = (28, 28, 1), activation = 'relu'))"
   ]
  },
  {
   "cell_type": "code",
   "execution_count": 60,
   "metadata": {},
   "outputs": [],
   "source": [
    "# Step 2 - Pooling\n",
    "classifier.add(MaxPooling2D(pool_size = (2, 2)))"
   ]
  },
  {
   "cell_type": "code",
   "execution_count": 61,
   "metadata": {},
   "outputs": [],
   "source": [
    "# If another convolution layer is desired -- add here"
   ]
  },
  {
   "cell_type": "code",
   "execution_count": 62,
   "metadata": {},
   "outputs": [],
   "source": [
    "# Step 3 - Flattening\n",
    "classifier.add(Flatten())"
   ]
  },
  {
   "cell_type": "code",
   "execution_count": 63,
   "metadata": {},
   "outputs": [],
   "source": [
    "# Step 4 - Full connection\n",
    "classifier.add(Dense(units = 128, activation = 'relu'))\n",
    "classifier.add(Dense(units = 10, activation = 'sigmoid'))"
   ]
  },
  {
   "cell_type": "code",
   "execution_count": 64,
   "metadata": {},
   "outputs": [],
   "source": [
    "# Compiling the CNN -- ensure loss is correct for type of model\n",
    "classifier.compile(optimizer = 'adam', loss = 'sparse_categorical_crossentropy', metrics = ['accuracy'])"
   ]
  },
  {
   "cell_type": "code",
   "execution_count": 65,
   "metadata": {},
   "outputs": [
    {
     "name": "stderr",
     "output_type": "stream",
     "text": [
      "C:\\Users\\Zach Barrett\\Anaconda3\\lib\\site-packages\\ipykernel_launcher.py:8: UserWarning: The `nb_epoch` argument in `fit` has been renamed `epochs`.\n",
      "  \n"
     ]
    },
    {
     "name": "stdout",
     "output_type": "stream",
     "text": [
      "Train on 48000 samples, validate on 12000 samples\n",
      "Epoch 1/50\n",
      "48000/48000 [==============================] - 19s 401us/step - loss: 0.7092 - acc: 0.7750 - val_loss: 0.4199 - val_acc: 0.8529\n",
      "Epoch 2/50\n",
      "48000/48000 [==============================] - 19s 397us/step - loss: 0.3972 - acc: 0.8591 - val_loss: 0.3648 - val_acc: 0.8720\n",
      "Epoch 3/50\n",
      "48000/48000 [==============================] - 19s 392us/step - loss: 0.3488 - acc: 0.8768 - val_loss: 0.3448 - val_acc: 0.8799\n",
      "Epoch 4/50\n",
      "48000/48000 [==============================] - 19s 405us/step - loss: 0.3186 - acc: 0.8881 - val_loss: 0.3169 - val_acc: 0.8896\n",
      "Epoch 5/50\n",
      "48000/48000 [==============================] - 19s 400us/step - loss: 0.2973 - acc: 0.8957 - val_loss: 0.2992 - val_acc: 0.8945\n",
      "Epoch 6/50\n",
      "48000/48000 [==============================] - 19s 405us/step - loss: 0.2785 - acc: 0.9020 - val_loss: 0.2842 - val_acc: 0.8992\n",
      "Epoch 7/50\n",
      "48000/48000 [==============================] - 20s 410us/step - loss: 0.2631 - acc: 0.9071 - val_loss: 0.2807 - val_acc: 0.9001\n",
      "Epoch 8/50\n",
      "48000/48000 [==============================] - 20s 408us/step - loss: 0.2492 - acc: 0.9114 - val_loss: 0.2760 - val_acc: 0.8985\n",
      "Epoch 9/50\n",
      "48000/48000 [==============================] - 20s 407us/step - loss: 0.2413 - acc: 0.9153 - val_loss: 0.2680 - val_acc: 0.9028\n",
      "Epoch 10/50\n",
      "48000/48000 [==============================] - 20s 408us/step - loss: 0.2301 - acc: 0.9190 - val_loss: 0.2613 - val_acc: 0.9088\n",
      "Epoch 11/50\n",
      "48000/48000 [==============================] - 20s 408us/step - loss: 0.2198 - acc: 0.9226 - val_loss: 0.2710 - val_acc: 0.9021\n",
      "Epoch 12/50\n",
      "48000/48000 [==============================] - 20s 413us/step - loss: 0.2122 - acc: 0.9245 - val_loss: 0.2579 - val_acc: 0.9074\n",
      "Epoch 13/50\n",
      "48000/48000 [==============================] - 20s 417us/step - loss: 0.2018 - acc: 0.9293 - val_loss: 0.2529 - val_acc: 0.9074\n",
      "Epoch 14/50\n",
      "48000/48000 [==============================] - 20s 415us/step - loss: 0.1932 - acc: 0.9323 - val_loss: 0.2458 - val_acc: 0.9135\n",
      "Epoch 15/50\n",
      "48000/48000 [==============================] - 20s 409us/step - loss: 0.1903 - acc: 0.9330 - val_loss: 0.2445 - val_acc: 0.9126\n",
      "Epoch 16/50\n",
      "48000/48000 [==============================] - 20s 411us/step - loss: 0.1799 - acc: 0.9367 - val_loss: 0.2541 - val_acc: 0.9101\n",
      "Epoch 17/50\n",
      "48000/48000 [==============================] - 20s 410us/step - loss: 0.1742 - acc: 0.9391 - val_loss: 0.2485 - val_acc: 0.9122\n",
      "Epoch 18/50\n",
      "48000/48000 [==============================] - 20s 411us/step - loss: 0.1642 - acc: 0.9428 - val_loss: 0.2430 - val_acc: 0.9150\n",
      "Epoch 19/50\n",
      "48000/48000 [==============================] - 20s 416us/step - loss: 0.1582 - acc: 0.9451 - val_loss: 0.2403 - val_acc: 0.9156\n",
      "Epoch 20/50\n",
      "48000/48000 [==============================] - 20s 412us/step - loss: 0.1519 - acc: 0.9473 - val_loss: 0.2429 - val_acc: 0.9158\n",
      "Epoch 21/50\n",
      "48000/48000 [==============================] - 20s 413us/step - loss: 0.1516 - acc: 0.9474 - val_loss: 0.2395 - val_acc: 0.9182\n",
      "Epoch 22/50\n",
      "48000/48000 [==============================] - 20s 411us/step - loss: 0.1415 - acc: 0.9510 - val_loss: 0.2486 - val_acc: 0.9100\n",
      "Epoch 23/50\n",
      "48000/48000 [==============================] - 20s 413us/step - loss: 0.1375 - acc: 0.9522 - val_loss: 0.2553 - val_acc: 0.9145\n",
      "Epoch 24/50\n",
      "48000/48000 [==============================] - 20s 414us/step - loss: 0.1349 - acc: 0.9521 - val_loss: 0.2422 - val_acc: 0.9162\n",
      "Epoch 25/50\n",
      "48000/48000 [==============================] - 20s 417us/step - loss: 0.1239 - acc: 0.9574 - val_loss: 0.2606 - val_acc: 0.9088\n",
      "Epoch 26/50\n",
      "48000/48000 [==============================] - 20s 414us/step - loss: 0.1254 - acc: 0.9566 - val_loss: 0.2520 - val_acc: 0.9122\n",
      "Epoch 27/50\n",
      "48000/48000 [==============================] - 20s 417us/step - loss: 0.1175 - acc: 0.9601 - val_loss: 0.2545 - val_acc: 0.9141\n",
      "Epoch 28/50\n",
      "48000/48000 [==============================] - 20s 417us/step - loss: 0.1143 - acc: 0.9602 - val_loss: 0.2477 - val_acc: 0.9148\n",
      "Epoch 29/50\n",
      "48000/48000 [==============================] - 20s 415us/step - loss: 0.1068 - acc: 0.9634 - val_loss: 0.2489 - val_acc: 0.9152\n",
      "Epoch 30/50\n",
      "48000/48000 [==============================] - 20s 417us/step - loss: 0.1014 - acc: 0.9665 - val_loss: 0.2632 - val_acc: 0.9127\n",
      "Epoch 31/50\n",
      "48000/48000 [==============================] - 20s 419us/step - loss: 0.0998 - acc: 0.9666 - val_loss: 0.2693 - val_acc: 0.9108\n",
      "Epoch 32/50\n",
      "48000/48000 [==============================] - 20s 418us/step - loss: 0.0956 - acc: 0.9681 - val_loss: 0.2716 - val_acc: 0.9108\n",
      "Epoch 33/50\n",
      "48000/48000 [==============================] - 20s 419us/step - loss: 0.0933 - acc: 0.9685 - val_loss: 0.2613 - val_acc: 0.9177\n",
      "Epoch 34/50\n",
      "48000/48000 [==============================] - 20s 415us/step - loss: 0.0855 - acc: 0.9723 - val_loss: 0.2653 - val_acc: 0.9130\n",
      "Epoch 35/50\n",
      "48000/48000 [==============================] - 20s 420us/step - loss: 0.0861 - acc: 0.9711 - val_loss: 0.2589 - val_acc: 0.9163\n",
      "Epoch 36/50\n",
      "48000/48000 [==============================] - 20s 420us/step - loss: 0.0761 - acc: 0.9764 - val_loss: 0.2615 - val_acc: 0.9160\n",
      "Epoch 37/50\n",
      "48000/48000 [==============================] - 20s 419us/step - loss: 0.0720 - acc: 0.9780 - val_loss: 0.2699 - val_acc: 0.9177\n",
      "Epoch 38/50\n",
      "48000/48000 [==============================] - 20s 419us/step - loss: 0.0700 - acc: 0.9781 - val_loss: 0.2674 - val_acc: 0.9157\n",
      "Epoch 39/50\n",
      "48000/48000 [==============================] - 20s 419us/step - loss: 0.0669 - acc: 0.9794 - val_loss: 0.2763 - val_acc: 0.9177\n",
      "Epoch 40/50\n",
      "48000/48000 [==============================] - 20s 418us/step - loss: 0.0726 - acc: 0.9767 - val_loss: 0.2884 - val_acc: 0.9122\n",
      "Epoch 41/50\n",
      "48000/48000 [==============================] - 20s 420us/step - loss: 0.0621 - acc: 0.9807 - val_loss: 0.2762 - val_acc: 0.9172\n",
      "Epoch 42/50\n",
      "48000/48000 [==============================] - 20s 421us/step - loss: 0.0596 - acc: 0.9818 - val_loss: 0.2832 - val_acc: 0.9195\n",
      "Epoch 43/50\n",
      "48000/48000 [==============================] - 20s 424us/step - loss: 0.0571 - acc: 0.9830 - val_loss: 0.2921 - val_acc: 0.9139\n",
      "Epoch 44/50\n",
      "48000/48000 [==============================] - 20s 419us/step - loss: 0.0561 - acc: 0.9828 - val_loss: 0.2964 - val_acc: 0.9141\n",
      "Epoch 45/50\n",
      "48000/48000 [==============================] - 20s 418us/step - loss: 0.0530 - acc: 0.9835 - val_loss: 0.2894 - val_acc: 0.9163\n",
      "Epoch 46/50\n",
      "48000/48000 [==============================] - 20s 417us/step - loss: 0.0512 - acc: 0.9851 - val_loss: 0.2935 - val_acc: 0.9177\n",
      "Epoch 47/50\n",
      "48000/48000 [==============================] - 20s 419us/step - loss: 0.0489 - acc: 0.9856 - val_loss: 0.3104 - val_acc: 0.9131\n",
      "Epoch 48/50\n",
      "48000/48000 [==============================] - 20s 411us/step - loss: 0.0435 - acc: 0.9876 - val_loss: 0.2988 - val_acc: 0.9182\n",
      "Epoch 49/50\n",
      "48000/48000 [==============================] - 20s 411us/step - loss: 0.0392 - acc: 0.9903 - val_loss: 0.3076 - val_acc: 0.9127\n",
      "Epoch 50/50\n",
      "48000/48000 [==============================] - 20s 411us/step - loss: 0.0381 - acc: 0.9902 - val_loss: 0.3033 - val_acc: 0.9158\n"
     ]
    }
   ],
   "source": [
    "epochs = 50\n",
    "\n",
    "history = classifier.fit(X_train,\n",
    "                        y_train,\n",
    "                        batch_size = 512,\n",
    "                        nb_epoch = epochs,\n",
    "                        verbose = 1,\n",
    "                        validation_data = (X_validate, y_validate))"
   ]
  },
  {
   "cell_type": "code",
   "execution_count": null,
   "metadata": {},
   "outputs": [],
   "source": [
    "# Evaluation:"
   ]
  },
  {
   "cell_type": "code",
   "execution_count": 66,
   "metadata": {},
   "outputs": [
    {
     "name": "stdout",
     "output_type": "stream",
     "text": [
      "10000/10000 [==============================] - 1s 105us/step\n",
      "Test Accuracy : 0.919\n"
     ]
    }
   ],
   "source": [
    "evaluation = classifier.evaluate(X_test, y_test)\n",
    "print('Test Accuracy : {:.3f}'.format(evaluation[1]))"
   ]
  },
  {
   "cell_type": "code",
   "execution_count": 67,
   "metadata": {},
   "outputs": [],
   "source": [
    "# get the predictions for the test data\n",
    "predicted_classes = classifier.predict_classes(X_test)"
   ]
  },
  {
   "cell_type": "code",
   "execution_count": 71,
   "metadata": {},
   "outputs": [
    {
     "data": {
      "text/plain": [
       "<matplotlib.axes._subplots.AxesSubplot at 0x21217092c18>"
      ]
     },
     "execution_count": 71,
     "metadata": {},
     "output_type": "execute_result"
    },
    {
     "data": {
      "image/png": "[encoded data removed]",
      "text/plain": [
       "<Figure size 1008x720 with 2 Axes>"
      ]
     },
     "metadata": {
      "needs_background": "light"
     },
     "output_type": "display_data"
    }
   ],
   "source": [
    "from sklearn.metrics import confusion_matrix\n",
    "cm = confusion_matrix(y_test, predicted_classes)\n",
    "plt.figure(figsize = (14,10))\n",
    "sns.heatmap(cm, annot=True, fmt='g')"
   ]
  }
 ],
 "metadata": {
  "kernelspec": {
   "display_name": "Python 3",
   "language": "python",
   "name": "python3"
  },
  "language_info": {
   "codemirror_mode": {
    "name": "ipython",
    "version": 3
   },
   "file_extension": ".py",
   "mimetype": "text/x-python",
   "name": "python",
   "nbconvert_exporter": "python",
   "pygments_lexer": "ipython3",
   "version": "3.7.3"
  }
 },
 "nbformat": 4,
 "nbformat_minor": 2
}
